{
 "cells": [
  {
   "cell_type": "markdown",
   "metadata": {},
   "source": [
    "# Overview"
   ]
  },
  {
   "cell_type": "markdown",
   "metadata": {},
   "source": [
    "The dataset comes from Kaggle competition First GOP Debate Twitter Sentiment database.\n",
    "\n",
    "(https://www.kaggle.com/crowdflower/first-gop-debate-twitter-sentiment/data) \n",
    "\n",
    "There are 3 differet sentiments in the dataset including Negative, Neutral, Positive. The goal is to differentiate Negative and Positive tweets. Therefore only Negative and Positive tweets are reserved."
   ]
  },
  {
   "cell_type": "code",
   "execution_count": 1,
   "metadata": {},
   "outputs": [],
   "source": [
    "import pandas as pd\n",
    "import numpy as np\n",
    "import matplotlib.pyplot as plt\n",
    "import seaborn as sns\n",
    "%matplotlib inline\n",
    "import nltk\n",
    "from nltk.corpus import stopwords\n",
    "from wordcloud import WordCloud, STOPWORDS"
   ]
  },
  {
   "cell_type": "code",
   "execution_count": 2,
   "metadata": {},
   "outputs": [],
   "source": [
    "import pandas as pd\n",
    "dat=pd.read_csv('C:\\\\Users\\\\pengq\\\\GOP twitter\\\\GOP sentiment.csv')\n",
    "data=dat[dat.sentiment!='Neutral']"
   ]
  },
  {
   "cell_type": "code",
   "execution_count": 3,
   "metadata": {},
   "outputs": [],
   "source": [
    "df=pd.DataFrame({'text':data.text, 'sentiment':data.sentiment})"
   ]
  },
  {
   "cell_type": "markdown",
   "metadata": {},
   "source": [
    "# Clean text data"
   ]
  },
  {
   "cell_type": "code",
   "execution_count": 4,
   "metadata": {},
   "outputs": [
    {
     "name": "stderr",
     "output_type": "stream",
     "text": [
      "C:\\Users\\pengq\\Anaconda3\\lib\\site-packages\\ipykernel\\__main__.py:12: FutureWarning: set_value is deprecated and will be removed in a future release. Please use .at[] or .iat[] accessors instead\n"
     ]
    }
   ],
   "source": [
    "stopwords_set=set(stopwords.words('english'))\n",
    "for index, row in df.iterrows():\n",
    "    words_filtered=[e.lower() for e in row.text.split()\\\n",
    "                   if len(e)>=3]\n",
    "    words_cleaned=[word for word in words_filtered\n",
    "                  if 'http' not in word\n",
    "                  and not word.startswith('@')\n",
    "                  and not word.startswith('#')\n",
    "                  and word!= 'RT']\n",
    "    words_without_stopwords=[word for word in words_cleaned\n",
    "                             if not word in stopwords_set]\n",
    "    tt=\" \".join(words_without_stopwords)\n",
    "    df.set_value(index, 'tt', tt)"
   ]
  },
  {
   "cell_type": "code",
   "execution_count": 5,
   "metadata": {},
   "outputs": [],
   "source": [
    "dtf=pd.DataFrame({'text':df.tt, 'sentiment':df.sentiment})"
   ]
  },
  {
   "cell_type": "code",
   "execution_count": 6,
   "metadata": {},
   "outputs": [
    {
     "data": {
      "text/html": [
       "<div>\n",
       "<style scoped>\n",
       "    .dataframe tbody tr th:only-of-type {\n",
       "        vertical-align: middle;\n",
       "    }\n",
       "\n",
       "    .dataframe tbody tr th {\n",
       "        vertical-align: top;\n",
       "    }\n",
       "\n",
       "    .dataframe thead th {\n",
       "        text-align: right;\n",
       "    }\n",
       "</style>\n",
       "<table border=\"1\" class=\"dataframe\">\n",
       "  <thead>\n",
       "    <tr style=\"text-align: right;\">\n",
       "      <th></th>\n",
       "      <th>sentiment</th>\n",
       "      <th>text</th>\n",
       "    </tr>\n",
       "  </thead>\n",
       "  <tbody>\n",
       "    <tr>\n",
       "      <th>1</th>\n",
       "      <td>Positive</td>\n",
       "      <td>catch full last night. scott's best lines seco...</td>\n",
       "    </tr>\n",
       "    <tr>\n",
       "      <th>3</th>\n",
       "      <td>Positive</td>\n",
       "      <td>carly fiorina trending hours debate men just-c...</td>\n",
       "    </tr>\n",
       "    <tr>\n",
       "      <th>4</th>\n",
       "      <td>Positive</td>\n",
       "      <td>delivered highest ratings history presidential...</td>\n",
       "    </tr>\n",
       "    <tr>\n",
       "      <th>5</th>\n",
       "      <td>Positive</td>\n",
       "      <td>\"on first day rescind every illegal executive ...</td>\n",
       "    </tr>\n",
       "    <tr>\n",
       "      <th>6</th>\n",
       "      <td>Negative</td>\n",
       "      <td>liked happy heard going moderator. anymore.</td>\n",
       "    </tr>\n",
       "  </tbody>\n",
       "</table>\n",
       "</div>"
      ],
      "text/plain": [
       "  sentiment                                               text\n",
       "1  Positive  catch full last night. scott's best lines seco...\n",
       "3  Positive  carly fiorina trending hours debate men just-c...\n",
       "4  Positive  delivered highest ratings history presidential...\n",
       "5  Positive  \"on first day rescind every illegal executive ...\n",
       "6  Negative        liked happy heard going moderator. anymore."
      ]
     },
     "execution_count": 6,
     "metadata": {},
     "output_type": "execute_result"
    }
   ],
   "source": [
    "dtf.head()"
   ]
  },
  {
   "cell_type": "markdown",
   "metadata": {},
   "source": [
    "# Descriptive Statistical Summary of the training set"
   ]
  },
  {
   "cell_type": "code",
   "execution_count": 7,
   "metadata": {},
   "outputs": [
    {
     "data": {
      "text/html": [
       "<script>requirejs.config({paths: { 'plotly': ['https://cdn.plot.ly/plotly-latest.min']},});if(!window.Plotly) {{require(['plotly'],function(plotly) {window.Plotly=plotly;});}}</script>"
      ],
      "text/vnd.plotly.v1+html": [
       "<script>requirejs.config({paths: { 'plotly': ['https://cdn.plot.ly/plotly-latest.min']},});if(!window.Plotly) {{require(['plotly'],function(plotly) {window.Plotly=plotly;});}}</script>"
      ]
     },
     "metadata": {},
     "output_type": "display_data"
    }
   ],
   "source": [
    "import plotly.offline as py\n",
    "py.init_notebook_mode(connected=True)\n",
    "import plotly.graph_objs as go\n",
    "import plotly.tools as tls"
   ]
  },
  {
   "cell_type": "code",
   "execution_count": 8,
   "metadata": {},
   "outputs": [
    {
     "data": {
      "application/vnd.plotly.v1+json": {
       "data": [
        {
         "marker": {
          "color": [
           8493,
           2236
          ],
          "colorscale": "Jet"
         },
         "text": "Sentiments attributed to Author",
         "type": "bar",
         "x": [
          "Positive",
          "Negative"
         ],
         "y": [
          8493,
          2236
         ]
        }
       ],
       "layout": {
        "title": "Twitter Text Variable Distribution"
       }
      },
      "text/html": [
       "<div id=\"0f21b281-957c-420f-a622-e2d95cd45e64\" style=\"height: 525px; width: 100%;\" class=\"plotly-graph-div\"></div><script type=\"text/javascript\">require([\"plotly\"], function(Plotly) { window.PLOTLYENV=window.PLOTLYENV || {};window.PLOTLYENV.BASE_URL=\"https://plot.ly\";Plotly.newPlot(\"0f21b281-957c-420f-a622-e2d95cd45e64\", [{\"type\": \"bar\", \"x\": [\"Positive\", \"Negative\"], \"y\": [8493, 2236], \"marker\": {\"colorscale\": \"Jet\", \"color\": [8493, 2236]}, \"text\": \"Sentiments attributed to Author\"}], {\"title\": \"Twitter Text Variable Distribution\"}, {\"showLink\": true, \"linkText\": \"Export to plot.ly\"})});</script>"
      ],
      "text/vnd.plotly.v1+html": [
       "<div id=\"0f21b281-957c-420f-a622-e2d95cd45e64\" style=\"height: 525px; width: 100%;\" class=\"plotly-graph-div\"></div><script type=\"text/javascript\">require([\"plotly\"], function(Plotly) { window.PLOTLYENV=window.PLOTLYENV || {};window.PLOTLYENV.BASE_URL=\"https://plot.ly\";Plotly.newPlot(\"0f21b281-957c-420f-a622-e2d95cd45e64\", [{\"type\": \"bar\", \"x\": [\"Positive\", \"Negative\"], \"y\": [8493, 2236], \"marker\": {\"colorscale\": \"Jet\", \"color\": [8493, 2236]}, \"text\": \"Sentiments attributed to Author\"}], {\"title\": \"Twitter Text Variable Distribution\"}, {\"showLink\": true, \"linkText\": \"Export to plot.ly\"})});</script>"
      ]
     },
     "metadata": {},
     "output_type": "display_data"
    }
   ],
   "source": [
    "#z={'0':'Negative', '1':'Neutral', '2':'Positive'}\n",
    "data=[go.Bar(x=dtf.sentiment.unique(),\n",
    "      y=dtf.sentiment.value_counts().values,\n",
    "      marker=dict(colorscale='Jet',\n",
    "                 color=dtf.sentiment.value_counts().values),\n",
    "            text='Sentiments attributed to Author')]\n",
    "layout = go.Layout(title='Twitter Text Variable Distribution')\n",
    "fig=go.Figure(data=data, layout=layout)\n",
    "py.iplot(fig, filename='basic-bar')"
   ]
  },
  {
   "cell_type": "code",
   "execution_count": 9,
   "metadata": {},
   "outputs": [],
   "source": [
    "from collections import Counter\n",
    "all_words=\"\".join(dtf.text)\n",
    "a=all_words.split()\n",
    "b=Counter(a).most_common(50)\n",
    "key=[]\n",
    "value=[]\n",
    "for i in range(0, 50):\n",
    "    key.append(b[i][0])\n",
    "    value.append(b[i][1])"
   ]
  },
  {
   "cell_type": "code",
   "execution_count": 12,
   "metadata": {},
   "outputs": [
    {
     "data": {
      "application/vnd.plotly.v1+json": {
       "data": [
        {
         "marker": {
          "color": [
           810,
           777,
           757,
           537,
           525,
           505,
           440,
           381,
           344,
           300,
           300,
           296,
           291,
           281,
           274,
           274,
           255,
           250,
           244,
           230,
           223,
           217,
           216,
           208,
           205,
           201,
           201,
           199,
           198,
           197,
           194,
           193,
           191,
           189,
           173,
           171,
           169,
           168,
           164,
           162,
           162,
           159,
           158,
           156,
           156,
           155,
           155,
           154,
           153,
           149
          ],
          "colorscale": "Jet"
         },
         "text": "Word counts",
         "type": "bar",
         "x": [
          "&amp;",
          "fox",
          "trump",
          "last",
          "like",
          "news",
          "people",
          "bush",
          "get",
          "debate",
          "want",
          "republican",
          "would",
          "really",
          "one",
          "gop",
          "wallace",
          "ask",
          "candidates",
          "jeb",
          "need",
          "trying",
          "chris",
          "i'm",
          "hear",
          "\"fair",
          "balanced\"",
          "next",
          "cruz",
          "know",
          "president",
          "see",
          "night",
          "god",
          "think",
          "reminds",
          "said",
          "time",
          "attack",
          "elevator",
          "music.",
          "watching",
          "got",
          "else",
          "candidate",
          "obviously",
          "influence",
          "set",
          "donald",
          "women"
         ],
         "y": [
          810,
          777,
          757,
          537,
          525,
          505,
          440,
          381,
          344,
          300,
          300,
          296,
          291,
          281,
          274,
          274,
          255,
          250,
          244,
          230,
          223,
          217,
          216,
          208,
          205,
          201,
          201,
          199,
          198,
          197,
          194,
          193,
          191,
          189,
          173,
          171,
          169,
          168,
          164,
          162,
          162,
          159,
          158,
          156,
          156,
          155,
          155,
          154,
          153,
          149
         ]
        }
       ],
       "layout": {
        "title": "Top 50 (Cleaned) Word frequencies in the training dataset"
       }
      },
      "text/html": [
       "<div id=\"10f73f0a-9941-4af2-afd6-1ccf1570a362\" style=\"height: 525px; width: 100%;\" class=\"plotly-graph-div\"></div><script type=\"text/javascript\">require([\"plotly\"], function(Plotly) { window.PLOTLYENV=window.PLOTLYENV || {};window.PLOTLYENV.BASE_URL=\"https://plot.ly\";Plotly.newPlot(\"10f73f0a-9941-4af2-afd6-1ccf1570a362\", [{\"type\": \"bar\", \"x\": [\"&amp;\", \"fox\", \"trump\", \"last\", \"like\", \"news\", \"people\", \"bush\", \"get\", \"debate\", \"want\", \"republican\", \"would\", \"really\", \"one\", \"gop\", \"wallace\", \"ask\", \"candidates\", \"jeb\", \"need\", \"trying\", \"chris\", \"i'm\", \"hear\", \"\\\"fair\", \"balanced\\\"\", \"next\", \"cruz\", \"know\", \"president\", \"see\", \"night\", \"god\", \"think\", \"reminds\", \"said\", \"time\", \"attack\", \"elevator\", \"music.\", \"watching\", \"got\", \"else\", \"candidate\", \"obviously\", \"influence\", \"set\", \"donald\", \"women\"], \"y\": [810, 777, 757, 537, 525, 505, 440, 381, 344, 300, 300, 296, 291, 281, 274, 274, 255, 250, 244, 230, 223, 217, 216, 208, 205, 201, 201, 199, 198, 197, 194, 193, 191, 189, 173, 171, 169, 168, 164, 162, 162, 159, 158, 156, 156, 155, 155, 154, 153, 149], \"marker\": {\"colorscale\": \"Jet\", \"color\": [810, 777, 757, 537, 525, 505, 440, 381, 344, 300, 300, 296, 291, 281, 274, 274, 255, 250, 244, 230, 223, 217, 216, 208, 205, 201, 201, 199, 198, 197, 194, 193, 191, 189, 173, 171, 169, 168, 164, 162, 162, 159, 158, 156, 156, 155, 155, 154, 153, 149]}, \"text\": \"Word counts\"}], {\"title\": \"Top 50 (Cleaned) Word frequencies in the training dataset\"}, {\"showLink\": true, \"linkText\": \"Export to plot.ly\"})});</script>"
      ],
      "text/vnd.plotly.v1+html": [
       "<div id=\"10f73f0a-9941-4af2-afd6-1ccf1570a362\" style=\"height: 525px; width: 100%;\" class=\"plotly-graph-div\"></div><script type=\"text/javascript\">require([\"plotly\"], function(Plotly) { window.PLOTLYENV=window.PLOTLYENV || {};window.PLOTLYENV.BASE_URL=\"https://plot.ly\";Plotly.newPlot(\"10f73f0a-9941-4af2-afd6-1ccf1570a362\", [{\"type\": \"bar\", \"x\": [\"&amp;\", \"fox\", \"trump\", \"last\", \"like\", \"news\", \"people\", \"bush\", \"get\", \"debate\", \"want\", \"republican\", \"would\", \"really\", \"one\", \"gop\", \"wallace\", \"ask\", \"candidates\", \"jeb\", \"need\", \"trying\", \"chris\", \"i'm\", \"hear\", \"\\\"fair\", \"balanced\\\"\", \"next\", \"cruz\", \"know\", \"president\", \"see\", \"night\", \"god\", \"think\", \"reminds\", \"said\", \"time\", \"attack\", \"elevator\", \"music.\", \"watching\", \"got\", \"else\", \"candidate\", \"obviously\", \"influence\", \"set\", \"donald\", \"women\"], \"y\": [810, 777, 757, 537, 525, 505, 440, 381, 344, 300, 300, 296, 291, 281, 274, 274, 255, 250, 244, 230, 223, 217, 216, 208, 205, 201, 201, 199, 198, 197, 194, 193, 191, 189, 173, 171, 169, 168, 164, 162, 162, 159, 158, 156, 156, 155, 155, 154, 153, 149], \"marker\": {\"colorscale\": \"Jet\", \"color\": [810, 777, 757, 537, 525, 505, 440, 381, 344, 300, 300, 296, 291, 281, 274, 274, 255, 250, 244, 230, 223, 217, 216, 208, 205, 201, 201, 199, 198, 197, 194, 193, 191, 189, 173, 171, 169, 168, 164, 162, 162, 159, 158, 156, 156, 155, 155, 154, 153, 149]}, \"text\": \"Word counts\"}], {\"title\": \"Top 50 (Cleaned) Word frequencies in the training dataset\"}, {\"showLink\": true, \"linkText\": \"Export to plot.ly\"})});</script>"
      ]
     },
     "metadata": {},
     "output_type": "display_data"
    }
   ],
   "source": [
    "data = [go.Bar(\n",
    "            x = key,\n",
    "            y = value,\n",
    "            marker= dict(colorscale='Jet',\n",
    "                         color = value\n",
    "                        ),\n",
    "            text='Word counts'\n",
    "    )]\n",
    "\n",
    "layout = go.Layout(\n",
    "    title='Top 50 (Cleaned) Word frequencies in the training dataset'\n",
    ")\n",
    "\n",
    "fig = go.Figure(data=data, layout=layout)\n",
    "\n",
    "py.iplot(fig, filename='basic-bar')"
   ]
  },
  {
   "cell_type": "markdown",
   "metadata": {},
   "source": [
    "# Encode categorical variable Sentiment"
   ]
  },
  {
   "cell_type": "code",
   "execution_count": 13,
   "metadata": {},
   "outputs": [],
   "source": [
    "from sklearn.preprocessing import LabelEncoder\n",
    "le=LabelEncoder()\n",
    "dtf.iloc[:,0]=le.fit_transform(dtf.iloc[:,0])"
   ]
  },
  {
   "cell_type": "code",
   "execution_count": 14,
   "metadata": {},
   "outputs": [
    {
     "data": {
      "text/html": [
       "<div>\n",
       "<style scoped>\n",
       "    .dataframe tbody tr th:only-of-type {\n",
       "        vertical-align: middle;\n",
       "    }\n",
       "\n",
       "    .dataframe tbody tr th {\n",
       "        vertical-align: top;\n",
       "    }\n",
       "\n",
       "    .dataframe thead th {\n",
       "        text-align: right;\n",
       "    }\n",
       "</style>\n",
       "<table border=\"1\" class=\"dataframe\">\n",
       "  <thead>\n",
       "    <tr style=\"text-align: right;\">\n",
       "      <th></th>\n",
       "      <th>sentiment</th>\n",
       "      <th>text</th>\n",
       "    </tr>\n",
       "  </thead>\n",
       "  <tbody>\n",
       "    <tr>\n",
       "      <th>1</th>\n",
       "      <td>1</td>\n",
       "      <td>catch full last night. scott's best lines seco...</td>\n",
       "    </tr>\n",
       "    <tr>\n",
       "      <th>3</th>\n",
       "      <td>1</td>\n",
       "      <td>carly fiorina trending hours debate men just-c...</td>\n",
       "    </tr>\n",
       "    <tr>\n",
       "      <th>4</th>\n",
       "      <td>1</td>\n",
       "      <td>delivered highest ratings history presidential...</td>\n",
       "    </tr>\n",
       "    <tr>\n",
       "      <th>5</th>\n",
       "      <td>1</td>\n",
       "      <td>\"on first day rescind every illegal executive ...</td>\n",
       "    </tr>\n",
       "    <tr>\n",
       "      <th>6</th>\n",
       "      <td>0</td>\n",
       "      <td>liked happy heard going moderator. anymore.</td>\n",
       "    </tr>\n",
       "    <tr>\n",
       "      <th>8</th>\n",
       "      <td>0</td>\n",
       "      <td>deer headlights ben carson, may brain surgeon ...</td>\n",
       "    </tr>\n",
       "    <tr>\n",
       "      <th>9</th>\n",
       "      <td>0</td>\n",
       "      <td>last night's debate proved it!</td>\n",
       "    </tr>\n",
       "  </tbody>\n",
       "</table>\n",
       "</div>"
      ],
      "text/plain": [
       "   sentiment                                               text\n",
       "1          1  catch full last night. scott's best lines seco...\n",
       "3          1  carly fiorina trending hours debate men just-c...\n",
       "4          1  delivered highest ratings history presidential...\n",
       "5          1  \"on first day rescind every illegal executive ...\n",
       "6          0        liked happy heard going moderator. anymore.\n",
       "8          0  deer headlights ben carson, may brain surgeon ...\n",
       "9          0                     last night's debate proved it!"
      ]
     },
     "execution_count": 14,
     "metadata": {},
     "output_type": "execute_result"
    }
   ],
   "source": [
    "dtf.head(7)"
   ]
  },
  {
   "cell_type": "markdown",
   "metadata": {},
   "source": [
    "negative = 0\n",
    "positive = 1"
   ]
  },
  {
   "cell_type": "markdown",
   "metadata": {},
   "source": [
    "# Split data into training and test sets"
   ]
  },
  {
   "cell_type": "code",
   "execution_count": 15,
   "metadata": {
    "scrolled": true
   },
   "outputs": [
    {
     "name": "stderr",
     "output_type": "stream",
     "text": [
      "C:\\Users\\pengq\\Anaconda3\\lib\\site-packages\\sklearn\\cross_validation.py:41: DeprecationWarning:\n",
      "\n",
      "This module was deprecated in version 0.18 in favor of the model_selection module into which all the refactored classes and functions are moved. Also note that the interface of the new CV iterators are different from that of this module. This module will be removed in 0.20.\n",
      "\n"
     ]
    }
   ],
   "source": [
    "from sklearn.cross_validation import train_test_split\n",
    "X_train, x_test, y_train, y_test = train_test_split(dtf.text, dtf.sentiment, test_size=0.33, random_state=53)"
   ]
  },
  {
   "cell_type": "markdown",
   "metadata": {},
   "source": [
    "# Build up word vectors using both CountVectorizer and TfidfVectorizer"
   ]
  },
  {
   "cell_type": "code",
   "execution_count": 16,
   "metadata": {},
   "outputs": [],
   "source": [
    "from sklearn.feature_extraction.text import CountVectorizer, TfidfVectorizer"
   ]
  },
  {
   "cell_type": "code",
   "execution_count": 17,
   "metadata": {},
   "outputs": [],
   "source": [
    "count_vectorizer=CountVectorizer(stop_words='english')\n",
    "count_train=count_vectorizer.fit_transform(X_train)\n",
    "count_test=count_vectorizer.transform(x_test)"
   ]
  },
  {
   "cell_type": "code",
   "execution_count": 18,
   "metadata": {},
   "outputs": [],
   "source": [
    "tfidf_vectorizer=TfidfVectorizer(stop_words='english', max_df=0.7)\n",
    "tfidf_train=tfidf_vectorizer.fit_transform(X_train)\n",
    "tfidf_test=tfidf_vectorizer.transform(x_test)"
   ]
  },
  {
   "cell_type": "code",
   "execution_count": 19,
   "metadata": {},
   "outputs": [],
   "source": [
    "count_df=pd.DataFrame(count_train.A, columns=count_vectorizer.get_feature_names())\n",
    "tfidf_df=pd.DataFrame(tfidf_train.A, columns=tfidf_vectorizer.get_feature_names())"
   ]
  },
  {
   "cell_type": "code",
   "execution_count": 20,
   "metadata": {},
   "outputs": [
    {
     "data": {
      "text/html": [
       "<div>\n",
       "<style scoped>\n",
       "    .dataframe tbody tr th:only-of-type {\n",
       "        vertical-align: middle;\n",
       "    }\n",
       "\n",
       "    .dataframe tbody tr th {\n",
       "        vertical-align: top;\n",
       "    }\n",
       "\n",
       "    .dataframe thead th {\n",
       "        text-align: right;\n",
       "    }\n",
       "</style>\n",
       "<table border=\"1\" class=\"dataframe\">\n",
       "  <thead>\n",
       "    <tr style=\"text-align: right;\">\n",
       "      <th></th>\n",
       "      <th>00</th>\n",
       "      <th>000</th>\n",
       "      <th>07</th>\n",
       "      <th>10</th>\n",
       "      <th>100</th>\n",
       "      <th>1000s</th>\n",
       "      <th>100k</th>\n",
       "      <th>10k</th>\n",
       "      <th>10x</th>\n",
       "      <th>11</th>\n",
       "      <th>...</th>\n",
       "      <th>zetas</th>\n",
       "      <th>zinger</th>\n",
       "      <th>zingers</th>\n",
       "      <th>zinggg</th>\n",
       "      <th>zombie</th>\n",
       "      <th>zombies</th>\n",
       "      <th>zone</th>\n",
       "      <th>zones</th>\n",
       "      <th>zuckerberg</th>\n",
       "      <th>zygote</th>\n",
       "    </tr>\n",
       "  </thead>\n",
       "  <tbody>\n",
       "    <tr>\n",
       "      <th>0</th>\n",
       "      <td>0</td>\n",
       "      <td>0</td>\n",
       "      <td>0</td>\n",
       "      <td>0</td>\n",
       "      <td>0</td>\n",
       "      <td>0</td>\n",
       "      <td>0</td>\n",
       "      <td>0</td>\n",
       "      <td>0</td>\n",
       "      <td>0</td>\n",
       "      <td>...</td>\n",
       "      <td>0</td>\n",
       "      <td>0</td>\n",
       "      <td>0</td>\n",
       "      <td>0</td>\n",
       "      <td>0</td>\n",
       "      <td>0</td>\n",
       "      <td>0</td>\n",
       "      <td>0</td>\n",
       "      <td>0</td>\n",
       "      <td>0</td>\n",
       "    </tr>\n",
       "    <tr>\n",
       "      <th>1</th>\n",
       "      <td>0</td>\n",
       "      <td>0</td>\n",
       "      <td>0</td>\n",
       "      <td>0</td>\n",
       "      <td>0</td>\n",
       "      <td>0</td>\n",
       "      <td>0</td>\n",
       "      <td>0</td>\n",
       "      <td>0</td>\n",
       "      <td>0</td>\n",
       "      <td>...</td>\n",
       "      <td>0</td>\n",
       "      <td>0</td>\n",
       "      <td>0</td>\n",
       "      <td>0</td>\n",
       "      <td>0</td>\n",
       "      <td>0</td>\n",
       "      <td>0</td>\n",
       "      <td>0</td>\n",
       "      <td>0</td>\n",
       "      <td>0</td>\n",
       "    </tr>\n",
       "    <tr>\n",
       "      <th>2</th>\n",
       "      <td>0</td>\n",
       "      <td>0</td>\n",
       "      <td>0</td>\n",
       "      <td>0</td>\n",
       "      <td>0</td>\n",
       "      <td>0</td>\n",
       "      <td>0</td>\n",
       "      <td>0</td>\n",
       "      <td>0</td>\n",
       "      <td>0</td>\n",
       "      <td>...</td>\n",
       "      <td>0</td>\n",
       "      <td>0</td>\n",
       "      <td>0</td>\n",
       "      <td>0</td>\n",
       "      <td>0</td>\n",
       "      <td>0</td>\n",
       "      <td>0</td>\n",
       "      <td>0</td>\n",
       "      <td>0</td>\n",
       "      <td>0</td>\n",
       "    </tr>\n",
       "    <tr>\n",
       "      <th>3</th>\n",
       "      <td>0</td>\n",
       "      <td>0</td>\n",
       "      <td>0</td>\n",
       "      <td>0</td>\n",
       "      <td>0</td>\n",
       "      <td>0</td>\n",
       "      <td>0</td>\n",
       "      <td>0</td>\n",
       "      <td>0</td>\n",
       "      <td>0</td>\n",
       "      <td>...</td>\n",
       "      <td>0</td>\n",
       "      <td>0</td>\n",
       "      <td>0</td>\n",
       "      <td>0</td>\n",
       "      <td>0</td>\n",
       "      <td>0</td>\n",
       "      <td>0</td>\n",
       "      <td>0</td>\n",
       "      <td>0</td>\n",
       "      <td>0</td>\n",
       "    </tr>\n",
       "    <tr>\n",
       "      <th>4</th>\n",
       "      <td>0</td>\n",
       "      <td>0</td>\n",
       "      <td>0</td>\n",
       "      <td>0</td>\n",
       "      <td>0</td>\n",
       "      <td>0</td>\n",
       "      <td>0</td>\n",
       "      <td>0</td>\n",
       "      <td>0</td>\n",
       "      <td>0</td>\n",
       "      <td>...</td>\n",
       "      <td>0</td>\n",
       "      <td>0</td>\n",
       "      <td>0</td>\n",
       "      <td>0</td>\n",
       "      <td>0</td>\n",
       "      <td>0</td>\n",
       "      <td>0</td>\n",
       "      <td>0</td>\n",
       "      <td>0</td>\n",
       "      <td>0</td>\n",
       "    </tr>\n",
       "  </tbody>\n",
       "</table>\n",
       "<p>5 rows × 7249 columns</p>\n",
       "</div>"
      ],
      "text/plain": [
       "   00  000  07  10  100  1000s  100k  10k  10x  11   ...    zetas  zinger  \\\n",
       "0   0    0   0   0    0      0     0    0    0   0   ...        0       0   \n",
       "1   0    0   0   0    0      0     0    0    0   0   ...        0       0   \n",
       "2   0    0   0   0    0      0     0    0    0   0   ...        0       0   \n",
       "3   0    0   0   0    0      0     0    0    0   0   ...        0       0   \n",
       "4   0    0   0   0    0      0     0    0    0   0   ...        0       0   \n",
       "\n",
       "   zingers  zinggg  zombie  zombies  zone  zones  zuckerberg  zygote  \n",
       "0        0       0       0        0     0      0           0       0  \n",
       "1        0       0       0        0     0      0           0       0  \n",
       "2        0       0       0        0     0      0           0       0  \n",
       "3        0       0       0        0     0      0           0       0  \n",
       "4        0       0       0        0     0      0           0       0  \n",
       "\n",
       "[5 rows x 7249 columns]"
      ]
     },
     "execution_count": 20,
     "metadata": {},
     "output_type": "execute_result"
    }
   ],
   "source": [
    "count_df.head()"
   ]
  },
  {
   "cell_type": "code",
   "execution_count": 21,
   "metadata": {},
   "outputs": [
    {
     "data": {
      "text/html": [
       "<div>\n",
       "<style scoped>\n",
       "    .dataframe tbody tr th:only-of-type {\n",
       "        vertical-align: middle;\n",
       "    }\n",
       "\n",
       "    .dataframe tbody tr th {\n",
       "        vertical-align: top;\n",
       "    }\n",
       "\n",
       "    .dataframe thead th {\n",
       "        text-align: right;\n",
       "    }\n",
       "</style>\n",
       "<table border=\"1\" class=\"dataframe\">\n",
       "  <thead>\n",
       "    <tr style=\"text-align: right;\">\n",
       "      <th></th>\n",
       "      <th>00</th>\n",
       "      <th>000</th>\n",
       "      <th>07</th>\n",
       "      <th>10</th>\n",
       "      <th>100</th>\n",
       "      <th>1000s</th>\n",
       "      <th>100k</th>\n",
       "      <th>10k</th>\n",
       "      <th>10x</th>\n",
       "      <th>11</th>\n",
       "      <th>...</th>\n",
       "      <th>zetas</th>\n",
       "      <th>zinger</th>\n",
       "      <th>zingers</th>\n",
       "      <th>zinggg</th>\n",
       "      <th>zombie</th>\n",
       "      <th>zombies</th>\n",
       "      <th>zone</th>\n",
       "      <th>zones</th>\n",
       "      <th>zuckerberg</th>\n",
       "      <th>zygote</th>\n",
       "    </tr>\n",
       "  </thead>\n",
       "  <tbody>\n",
       "    <tr>\n",
       "      <th>0</th>\n",
       "      <td>0.0</td>\n",
       "      <td>0.0</td>\n",
       "      <td>0.0</td>\n",
       "      <td>0.0</td>\n",
       "      <td>0.0</td>\n",
       "      <td>0.0</td>\n",
       "      <td>0.0</td>\n",
       "      <td>0.0</td>\n",
       "      <td>0.0</td>\n",
       "      <td>0.0</td>\n",
       "      <td>...</td>\n",
       "      <td>0.0</td>\n",
       "      <td>0.0</td>\n",
       "      <td>0.0</td>\n",
       "      <td>0.0</td>\n",
       "      <td>0.0</td>\n",
       "      <td>0.0</td>\n",
       "      <td>0.0</td>\n",
       "      <td>0.0</td>\n",
       "      <td>0.0</td>\n",
       "      <td>0.0</td>\n",
       "    </tr>\n",
       "    <tr>\n",
       "      <th>1</th>\n",
       "      <td>0.0</td>\n",
       "      <td>0.0</td>\n",
       "      <td>0.0</td>\n",
       "      <td>0.0</td>\n",
       "      <td>0.0</td>\n",
       "      <td>0.0</td>\n",
       "      <td>0.0</td>\n",
       "      <td>0.0</td>\n",
       "      <td>0.0</td>\n",
       "      <td>0.0</td>\n",
       "      <td>...</td>\n",
       "      <td>0.0</td>\n",
       "      <td>0.0</td>\n",
       "      <td>0.0</td>\n",
       "      <td>0.0</td>\n",
       "      <td>0.0</td>\n",
       "      <td>0.0</td>\n",
       "      <td>0.0</td>\n",
       "      <td>0.0</td>\n",
       "      <td>0.0</td>\n",
       "      <td>0.0</td>\n",
       "    </tr>\n",
       "    <tr>\n",
       "      <th>2</th>\n",
       "      <td>0.0</td>\n",
       "      <td>0.0</td>\n",
       "      <td>0.0</td>\n",
       "      <td>0.0</td>\n",
       "      <td>0.0</td>\n",
       "      <td>0.0</td>\n",
       "      <td>0.0</td>\n",
       "      <td>0.0</td>\n",
       "      <td>0.0</td>\n",
       "      <td>0.0</td>\n",
       "      <td>...</td>\n",
       "      <td>0.0</td>\n",
       "      <td>0.0</td>\n",
       "      <td>0.0</td>\n",
       "      <td>0.0</td>\n",
       "      <td>0.0</td>\n",
       "      <td>0.0</td>\n",
       "      <td>0.0</td>\n",
       "      <td>0.0</td>\n",
       "      <td>0.0</td>\n",
       "      <td>0.0</td>\n",
       "    </tr>\n",
       "    <tr>\n",
       "      <th>3</th>\n",
       "      <td>0.0</td>\n",
       "      <td>0.0</td>\n",
       "      <td>0.0</td>\n",
       "      <td>0.0</td>\n",
       "      <td>0.0</td>\n",
       "      <td>0.0</td>\n",
       "      <td>0.0</td>\n",
       "      <td>0.0</td>\n",
       "      <td>0.0</td>\n",
       "      <td>0.0</td>\n",
       "      <td>...</td>\n",
       "      <td>0.0</td>\n",
       "      <td>0.0</td>\n",
       "      <td>0.0</td>\n",
       "      <td>0.0</td>\n",
       "      <td>0.0</td>\n",
       "      <td>0.0</td>\n",
       "      <td>0.0</td>\n",
       "      <td>0.0</td>\n",
       "      <td>0.0</td>\n",
       "      <td>0.0</td>\n",
       "    </tr>\n",
       "    <tr>\n",
       "      <th>4</th>\n",
       "      <td>0.0</td>\n",
       "      <td>0.0</td>\n",
       "      <td>0.0</td>\n",
       "      <td>0.0</td>\n",
       "      <td>0.0</td>\n",
       "      <td>0.0</td>\n",
       "      <td>0.0</td>\n",
       "      <td>0.0</td>\n",
       "      <td>0.0</td>\n",
       "      <td>0.0</td>\n",
       "      <td>...</td>\n",
       "      <td>0.0</td>\n",
       "      <td>0.0</td>\n",
       "      <td>0.0</td>\n",
       "      <td>0.0</td>\n",
       "      <td>0.0</td>\n",
       "      <td>0.0</td>\n",
       "      <td>0.0</td>\n",
       "      <td>0.0</td>\n",
       "      <td>0.0</td>\n",
       "      <td>0.0</td>\n",
       "    </tr>\n",
       "  </tbody>\n",
       "</table>\n",
       "<p>5 rows × 7249 columns</p>\n",
       "</div>"
      ],
      "text/plain": [
       "    00  000   07   10  100  1000s  100k  10k  10x   11   ...    zetas  zinger  \\\n",
       "0  0.0  0.0  0.0  0.0  0.0    0.0   0.0  0.0  0.0  0.0   ...      0.0     0.0   \n",
       "1  0.0  0.0  0.0  0.0  0.0    0.0   0.0  0.0  0.0  0.0   ...      0.0     0.0   \n",
       "2  0.0  0.0  0.0  0.0  0.0    0.0   0.0  0.0  0.0  0.0   ...      0.0     0.0   \n",
       "3  0.0  0.0  0.0  0.0  0.0    0.0   0.0  0.0  0.0  0.0   ...      0.0     0.0   \n",
       "4  0.0  0.0  0.0  0.0  0.0    0.0   0.0  0.0  0.0  0.0   ...      0.0     0.0   \n",
       "\n",
       "   zingers  zinggg  zombie  zombies  zone  zones  zuckerberg  zygote  \n",
       "0      0.0     0.0     0.0      0.0   0.0    0.0         0.0     0.0  \n",
       "1      0.0     0.0     0.0      0.0   0.0    0.0         0.0     0.0  \n",
       "2      0.0     0.0     0.0      0.0   0.0    0.0         0.0     0.0  \n",
       "3      0.0     0.0     0.0      0.0   0.0    0.0         0.0     0.0  \n",
       "4      0.0     0.0     0.0      0.0   0.0    0.0         0.0     0.0  \n",
       "\n",
       "[5 rows x 7249 columns]"
      ]
     },
     "execution_count": 21,
     "metadata": {},
     "output_type": "execute_result"
    }
   ],
   "source": [
    "tfidf_df.head()"
   ]
  },
  {
   "cell_type": "markdown",
   "metadata": {},
   "source": [
    "# Confusion Matrix Helper function"
   ]
  },
  {
   "cell_type": "code",
   "execution_count": 22,
   "metadata": {},
   "outputs": [],
   "source": [
    "import itertools\n",
    "def plot_confusion_matrix(cm, classes, normalize=False, \n",
    "                         title='Confusion matrix',\n",
    "                         cmap=plt.cm.Blues):\n",
    "    plt.imshow(cm, interpolation='nearest', cmap=cmap)\n",
    "    plt.title(title)\n",
    "    plt.colorbar()\n",
    "    tick_marks=np.arange(len(classes))\n",
    "    plt.xticks(tick_marks, classes, rotation=45)\n",
    "    plt.yticks(tick_marks, classes)\n",
    "    \n",
    "    if normalize:\n",
    "        cm=cm.astype('float') / cm.sum(axis=1)[:, np.newaxis]\n",
    "        print ('Normalized confusion matrix')\n",
    "    else:\n",
    "        print ('Confusino matrix, without normalization')\n",
    "    thresh = cm.max()/2\n",
    "    for i, j in itertools.product(range(cm.shape[0]), range(cm.shape[1])):\n",
    "        plt.text(j, i, cm[i, j],\n",
    "                 horizontalalignment='center',\n",
    "                 color='white' if cm[i, j] > thresh else 'black')\n",
    "    plt.tight_layout()\n",
    "    plt.ylabel('True label')\n",
    "    plt.xlabel('Predicted label')"
   ]
  },
  {
   "cell_type": "markdown",
   "metadata": {},
   "source": [
    "# Multinomial Naive Bayes"
   ]
  },
  {
   "cell_type": "code",
   "execution_count": 23,
   "metadata": {},
   "outputs": [
    {
     "name": "stdout",
     "output_type": "stream",
     "text": [
      "accuracy: 0.831\n",
      "Confusino matrix, without normalization\n"
     ]
    },
    {
     "data": {
      "image/png": "[encoded data removed]",
      "text/plain": [
       "<Figure size 432x288 with 2 Axes>"
      ]
     },
     "metadata": {},
     "output_type": "display_data"
    }
   ],
   "source": [
    "from sklearn.naive_bayes import MultinomialNB\n",
    "from sklearn import metrics\n",
    "mnb=MultinomialNB()\n",
    "mnb.fit(count_train, y_train)\n",
    "pred=mnb.predict(count_test)\n",
    "score=metrics.accuracy_score(y_test, pred)\n",
    "print ('accuracy: %0.3f'% score)\n",
    "cm=metrics.confusion_matrix(y_test, pred, labels=[0,1])\n",
    "plot_confusion_matrix(cm, classes=['Negative','Positive'])"
   ]
  },
  {
   "cell_type": "code",
   "execution_count": 24,
   "metadata": {},
   "outputs": [
    {
     "name": "stdout",
     "output_type": "stream",
     "text": [
      "accuracy: 0.826\n",
      "Confusino matrix, without normalization\n"
     ]
    },
    {
     "data": {
      "image/png": "[encoded data removed]",
      "text/plain": [
       "<Figure size 432x288 with 2 Axes>"
      ]
     },
     "metadata": {},
     "output_type": "display_data"
    }
   ],
   "source": [
    "from sklearn.naive_bayes import MultinomialNB\n",
    "from sklearn import metrics\n",
    "mnb=MultinomialNB()\n",
    "mnb.fit(tfidf_train, y_train)\n",
    "pred=mnb.predict(tfidf_test)\n",
    "score=metrics.accuracy_score(y_test, pred)\n",
    "print ('accuracy: %0.3f'% score)\n",
    "cm=metrics.confusion_matrix(y_test, pred, labels=[0,1,2])\n",
    "plot_confusion_matrix(cm, classes=['Negative','Neutrual','Positive'])"
   ]
  },
  {
   "cell_type": "markdown",
   "metadata": {},
   "source": [
    "# PassiveAggressiveClassifier"
   ]
  },
  {
   "cell_type": "code",
   "execution_count": 25,
   "metadata": {},
   "outputs": [
    {
     "name": "stderr",
     "output_type": "stream",
     "text": [
      "C:\\Users\\pengq\\Anaconda3\\lib\\site-packages\\sklearn\\linear_model\\stochastic_gradient.py:117: DeprecationWarning:\n",
      "\n",
      "n_iter parameter is deprecated in 0.19 and will be removed in 0.21. Use max_iter and tol instead.\n",
      "\n"
     ]
    },
    {
     "name": "stdout",
     "output_type": "stream",
     "text": [
      "accuracy: 0.796\n",
      "Confusino matrix, without normalization\n"
     ]
    },
    {
     "data": {
      "image/png": "[encoded data removed]",
      "text/plain": [
       "<Figure size 432x288 with 2 Axes>"
      ]
     },
     "metadata": {},
     "output_type": "display_data"
    }
   ],
   "source": [
    "from sklearn.linear_model import PassiveAggressiveClassifier\n",
    "from sklearn import metrics\n",
    "pac=PassiveAggressiveClassifier(n_iter=50)\n",
    "pac.fit(count_train, y_train)\n",
    "pred=pac.predict(count_test)\n",
    "score=metrics.accuracy_score(y_test, pred)\n",
    "print ('accuracy: %0.3f'% score)\n",
    "cm=metrics.confusion_matrix(y_test, pred, labels=[0,1])\n",
    "plot_confusion_matrix(cm, classes=['Negative','Positive'])"
   ]
  },
  {
   "cell_type": "code",
   "execution_count": 26,
   "metadata": {},
   "outputs": [
    {
     "name": "stdout",
     "output_type": "stream",
     "text": [
      "accuracy: 0.803\n",
      "Confusino matrix, without normalization\n"
     ]
    },
    {
     "name": "stderr",
     "output_type": "stream",
     "text": [
      "C:\\Users\\pengq\\Anaconda3\\lib\\site-packages\\sklearn\\linear_model\\stochastic_gradient.py:117: DeprecationWarning:\n",
      "\n",
      "n_iter parameter is deprecated in 0.19 and will be removed in 0.21. Use max_iter and tol instead.\n",
      "\n"
     ]
    },
    {
     "data": {
      "image/png": "[encoded data removed]",
      "text/plain": [
       "<Figure size 432x288 with 2 Axes>"
      ]
     },
     "metadata": {},
     "output_type": "display_data"
    }
   ],
   "source": [
    "from sklearn.linear_model import PassiveAggressiveClassifier\n",
    "from sklearn import metrics\n",
    "pac=PassiveAggressiveClassifier(n_iter=50)\n",
    "pac.fit(tfidf_train, y_train)\n",
    "pred=pac.predict(tfidf_test)\n",
    "score=metrics.accuracy_score(y_test, pred)\n",
    "print ('accuracy: %0.3f'% score)\n",
    "cm=metrics.confusion_matrix(y_test, pred, labels=[0,1])\n",
    "plot_confusion_matrix(cm, classes=['Negative','Positive'])"
   ]
  },
  {
   "cell_type": "markdown",
   "metadata": {},
   "source": [
    "# Support Vector Machine"
   ]
  },
  {
   "cell_type": "code",
   "execution_count": 27,
   "metadata": {},
   "outputs": [
    {
     "name": "stdout",
     "output_type": "stream",
     "text": [
      "accuracy: 0.789\n",
      "Confusino matrix, without normalization\n"
     ]
    },
    {
     "data": {
      "image/png": "[encoded data removed]",
      "text/plain": [
       "<Figure size 432x288 with 2 Axes>"
      ]
     },
     "metadata": {},
     "output_type": "display_data"
    }
   ],
   "source": [
    "from sklearn.svm import SVC\n",
    "from sklearn import metrics\n",
    "svc=SVC(C=1, probability=True)\n",
    "svc.fit(count_train, y_train)\n",
    "pred=svc.predict(count_test)\n",
    "score=metrics.accuracy_score(y_test, pred)\n",
    "print ('accuracy: %0.3f'% score)\n",
    "cm=metrics.confusion_matrix(y_test, pred, labels=[0,1])\n",
    "plot_confusion_matrix(cm, classes=['Negative','Positive'])"
   ]
  },
  {
   "cell_type": "code",
   "execution_count": 28,
   "metadata": {},
   "outputs": [
    {
     "name": "stdout",
     "output_type": "stream",
     "text": [
      "accuracy: 0.789\n",
      "Confusino matrix, without normalization\n"
     ]
    },
    {
     "data": {
      "image/png": "[encoded data removed]",
      "text/plain": [
       "<Figure size 432x288 with 2 Axes>"
      ]
     },
     "metadata": {},
     "output_type": "display_data"
    }
   ],
   "source": [
    "from sklearn.svm import SVC\n",
    "from sklearn import metrics\n",
    "svc=SVC(C=1, probability=True)\n",
    "svc.fit(tfidf_train, y_train)\n",
    "pred=svc.predict(tfidf_test)\n",
    "score=metrics.accuracy_score(y_test, pred)\n",
    "print ('accuracy: %0.3f'% score)\n",
    "cm=metrics.confusion_matrix(y_test, pred, labels=[0,1])\n",
    "plot_confusion_matrix(cm, classes=['Negative','Positive'])"
   ]
  },
  {
   "cell_type": "markdown",
   "metadata": {},
   "source": [
    "# Parameter Tuning "
   ]
  },
  {
   "cell_type": "markdown",
   "metadata": {},
   "source": [
    "According to the results above, NaiveBayes Model performs best of all the models. So I'll try to tune it's parameter. However, here there's not much difference in the result by tuning the parameters. But the best range of alpha lies between 0.1 and 0.2 where the score is the highest."
   ]
  },
  {
   "cell_type": "code",
   "execution_count": 29,
   "metadata": {},
   "outputs": [
    {
     "name": "stdout",
     "output_type": "stream",
     "text": [
      "Alpha: 0.00 Score: 0.83366\n",
      "Alpha: 0.10 Score: 0.84101\n",
      "Alpha: 0.20 Score: 0.84129\n",
      "Alpha: 0.30 Score: 0.83451\n",
      "Alpha: 0.40 Score: 0.83282\n",
      "Alpha: 0.50 Score: 0.83169\n",
      "Alpha: 0.60 Score: 0.82971\n",
      "Alpha: 0.70 Score: 0.82971\n",
      "Alpha: 0.80 Score: 0.82632\n",
      "Alpha: 0.90 Score: 0.82632\n"
     ]
    },
    {
     "name": "stderr",
     "output_type": "stream",
     "text": [
      "C:\\Users\\pengq\\Anaconda3\\lib\\site-packages\\sklearn\\naive_bayes.py:472: UserWarning:\n",
      "\n",
      "alpha too small will result in numeric errors, setting alpha = 1.0e-10\n",
      "\n"
     ]
    }
   ],
   "source": [
    "clf=MultinomialNB(alpha=0.1)\n",
    "last_score=0\n",
    "for alpha in np.arange(0, 1, .1):\n",
    "    nb_classifier=MultinomialNB(alpha=alpha)\n",
    "    nb_classifier.fit(tfidf_train, y_train)\n",
    "    pred=nb_classifier.predict(tfidf_test)\n",
    "    score=metrics.accuracy_score(y_test, pred)\n",
    "    if score > last_score:\n",
    "        clf=nb_classifier\n",
    "    print (\"Alpha: {:.2f} Score: {:.5f}\".format(alpha, score))\n",
    "    "
   ]
  },
  {
   "cell_type": "markdown",
   "metadata": {},
   "source": [
    "# Inspecting the top30 vectors for Negative and Positive tweets"
   ]
  },
  {
   "cell_type": "code",
   "execution_count": 30,
   "metadata": {},
   "outputs": [],
   "source": [
    "def most_informative_feautre_for_binary_classification(vectorizer, classifier, n=100):\n",
    "    class_labels=classifier.classes_\n",
    "   # if classifier.classes_== 0:\n",
    "   #     class_labels='Negative'\n",
    "   # elif classifier.classes == 1:\n",
    "   #     class_labels='Neutral'\n",
    "   # \n",
    "   # else:\n",
    "   #     class_labels='Positive'\n",
    "    feature_names = vectorizer.get_feature_names()\n",
    "    topn_class1 = sorted(zip(classifier.coef_[0], feature_names))[:n]\n",
    "    topn_class2 = sorted(zip(classifier.coef_[0], feature_names))[-n:]\n",
    "    \n",
    "    for coef, feat in topn_class1:\n",
    "        print (class_labels[0], coef, feat)\n",
    "    print ()\n",
    "    \n",
    "    for coef, feat in reversed(topn_class2):\n",
    "        print(class_labels[1], coef, feat)\n"
   ]
  },
  {
   "cell_type": "code",
   "execution_count": 31,
   "metadata": {},
   "outputs": [
    {
     "name": "stdout",
     "output_type": "stream",
     "text": [
      "0 -7.125536731325057 ron\n",
      "0 -6.379352829481581 overall\n",
      "0 -6.12361149828683 lied\n",
      "0 -5.757826708490641 pig\n",
      "0 -5.544873752080994 does\n",
      "0 -5.052959325733451 chrischristie\n",
      "0 -5.027474245066974 disappointed\n",
      "0 -5.018633946489753 bodies\n",
      "0 -5.00200009885629 ht\n",
      "0 -4.991656802361543 knock\n",
      "0 -4.930564806716194 fuck\n",
      "0 -4.929734503262369 slogan\n",
      "0 -4.924248804145062 business\n",
      "0 -4.912929736708737 stop\n",
      "0 -4.847361943474756 impression\n",
      "0 -4.826088221019194 money\n",
      "0 -4.813020561707815 cycle\n",
      "0 -4.809243946816055 shit\n",
      "0 -4.7908001100856294 wrong\n",
      "0 -4.716407261728212 lying\n",
      "0 -4.704794473445422 maybe\n",
      "0 -4.694027169483915 significantly\n",
      "0 -4.611153382650167 rick\n",
      "0 -4.599866354345131 police\n",
      "0 -4.571166237025143 loser\n",
      "0 -4.544384524460349 problem\n",
      "0 -4.538384637736271 liberals\n",
      "0 -4.53322201215865 paymasters\n",
      "0 -4.454471819924452 labotomy\n",
      "0 -4.450592513298846 ask\n",
      "\n",
      "1 8.785096513489123 contenders\n",
      "1 7.097888481313319 strong\n",
      "1 6.932988377416094 enjoyed\n",
      "1 6.817745373086423 ultimately\n",
      "1 6.7785471620432105 substance\n",
      "1 6.671324566960434 numbers\n",
      "1 6.538232604313319 proud\n",
      "1 6.532661667524324 commentary\n",
      "1 6.304255869328214 hav\n",
      "1 6.115964269600695 inadvertently\n",
      "1 6.099101815882954 booze\n",
      "1 5.967221675834208 outstanding\n",
      "1 5.86957395995738 apologize\n",
      "1 5.79725384987944 loved\n",
      "1 5.79652990381363 consistent\n",
      "1 5.7598943537050475 truth\n",
      "1 5.742766913432914 entertained\n",
      "1 5.693714672092386 role\n",
      "1 5.683254112206466 ftw\n",
      "1 5.624471413343845 excited\n",
      "1 5.518363076900055 amazing\n",
      "1 5.5118533004573225 smarter\n",
      "1 5.4513152144536825 round\n",
      "1 5.446613021608525 derail\n",
      "1 5.393890494530093 htt\n",
      "1 5.349371138853054 leads\n",
      "1 5.340349233487623 add\n",
      "1 5.34017312363982 doesn\n",
      "1 5.289479630264614 fighting\n",
      "1 5.196482913103007 attention\n"
     ]
    }
   ],
   "source": [
    "most_informative_feautre_for_binary_classification(tfidf_vectorizer, pac, n=30)"
   ]
  }
 ],
 "metadata": {
  "kernelspec": {
   "display_name": "Python 3",
   "language": "python",
   "name": "python3"
  },
  "language_info": {
   "codemirror_mode": {
    "name": "ipython",
    "version": 3
   },
   "file_extension": ".py",
   "mimetype": "text/x-python",
   "name": "python",
   "nbconvert_exporter": "python",
   "pygments_lexer": "ipython3",
   "version": "3.6.0"
  }
 },
 "nbformat": 4,
 "nbformat_minor": 2
}
